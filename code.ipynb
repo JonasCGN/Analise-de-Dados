{
 "cells": [
  {
   "cell_type": "code",
   "execution_count": 1,
   "metadata": {},
   "outputs": [],
   "source": [
    "import pandas as pd"
   ]
  },
  {
   "cell_type": "markdown",
   "metadata": {},
   "source": [
    "Obtenção"
   ]
  },
  {
   "cell_type": "markdown",
   "metadata": {},
   "source": [
    "Nesta fase do estudo, empenhamo-nos em buscar fontes confiáveis e bases de dados disponíveis que possam enriquecer nossa análise de forma concreta e intuitiva. Com o intuito de embasar nossa pesquisa, direcionamos nossos esforços para explorar o sistema da SIDRA (sidra.ibge.gov.br) em busca de informações relevantes.\n",
    "\n",
    "Foram pegos dados de classificação Agricultura, pecuária e serviços relacionados."
   ]
  },
  {
   "cell_type": "code",
   "execution_count": 13,
   "metadata": {},
   "outputs": [],
   "source": [
    "nome_planilhas = ['Tabela 1', 'Tabela 2','Tabela 3','Tabela 4']\n",
    "dados_planilhas = []\n",
    "\n",
    "for i in nome_planilhas:  # type: ignore\n",
    "    tabela = pd.read_excel('tabela.xlsx',header = 1, sheet_name = i)\n",
    "\n",
    "    valor = tabela.iloc[0].keys()[0]\n",
    "\n",
    "    tabela.columns = tabela.iloc[0]\n",
    "    \n",
    "    tabela = tabela.iloc[1:-1]\n",
    "    tabela = tabela.rename(columns={tabela.columns[5]: str(valor)})\n",
    "    \n",
    "    dados_planilhas.append(tabela)  # type: ignore"
   ]
  },
  {
   "cell_type": "markdown",
   "metadata": {},
   "source": [
    "Checagem"
   ]
  },
  {
   "cell_type": "markdown",
   "metadata": {},
   "source": [
    "Nesta seção abordaremos as respectivas colunas do conjunto de dados obtidos, buscando explicar o que cada coluna aborda e sua tradução de cada tabela."
   ]
  },
  {
   "cell_type": "code",
   "execution_count": 14,
   "metadata": {},
   "outputs": [
    {
     "name": "stdout",
     "output_type": "stream",
     "text": [
      "<class 'pandas.core.frame.DataFrame'>\n",
      "RangeIndex: 27 entries, 1 to 27\n",
      "Data columns (total 6 columns):\n",
      " #   Column                                                          Non-Null Count  Dtype  \n",
      "---  ------                                                          --------------  -----  \n",
      " 0   Unidade da Federação                                            27 non-null     object \n",
      " 1   Natureza jurídica                                               27 non-null     object \n",
      " 2   Faixas de pessoal ocupado                                       27 non-null     object \n",
      " 3   Classificação Nacional de Atividades Econômicas (CNAE 2.0)      27 non-null     object \n",
      " 4   Ano                                                             27 non-null     object \n",
      " 5   Variável - Número de empresas e outras organizações (Unidades)  27 non-null     float64\n",
      "dtypes: float64(1), object(5)\n",
      "memory usage: 1.4+ KB\n",
      "<class 'pandas.core.frame.DataFrame'>\n",
      "RangeIndex: 27 entries, 1 to 27\n",
      "Data columns (total 6 columns):\n",
      " #   Column                                                                           Non-Null Count  Dtype  \n",
      "---  ------                                                                           --------------  -----  \n",
      " 0   Unidade da Federação                                                             27 non-null     object \n",
      " 1   Natureza jurídica                                                                27 non-null     object \n",
      " 2   Faixas de pessoal ocupado                                                        27 non-null     object \n",
      " 3   Classificação Nacional de Atividades Econômicas (CNAE 2.0)                       27 non-null     object \n",
      " 4   Ano                                                                              27 non-null     object \n",
      " 5   Variável - Número de empresas e outras organizações - percentual do total geral  27 non-null     float64\n",
      "dtypes: float64(1), object(5)\n",
      "memory usage: 1.4+ KB\n",
      "<class 'pandas.core.frame.DataFrame'>\n",
      "RangeIndex: 27 entries, 1 to 27\n",
      "Data columns (total 6 columns):\n",
      " #   Column                                                      Non-Null Count  Dtype  \n",
      "---  ------                                                      --------------  -----  \n",
      " 0   Unidade da Federação                                        27 non-null     object \n",
      " 1   Natureza jurídica                                           27 non-null     object \n",
      " 2   Faixas de pessoal ocupado                                   27 non-null     object \n",
      " 3   Classificação Nacional de Atividades Econômicas (CNAE 2.0)  27 non-null     object \n",
      " 4   Ano                                                         27 non-null     object \n",
      " 5   Variável - Pessoal ocupado total (Pessoas)                  27 non-null     float64\n",
      "dtypes: float64(1), object(5)\n",
      "memory usage: 1.4+ KB\n",
      "<class 'pandas.core.frame.DataFrame'>\n",
      "RangeIndex: 27 entries, 1 to 27\n",
      "Data columns (total 6 columns):\n",
      " #   Column                                                        Non-Null Count  Dtype  \n",
      "---  ------                                                        --------------  -----  \n",
      " 0   Unidade da Federação                                          27 non-null     object \n",
      " 1   Natureza jurídica                                             27 non-null     object \n",
      " 2   Faixas de pessoal ocupado                                     27 non-null     object \n",
      " 3   Classificação Nacional de Atividades Econômicas (CNAE 2.0)    27 non-null     object \n",
      " 4   Ano                                                           27 non-null     object \n",
      " 5   Variável - Pessoal ocupado total - percentual do total geral  27 non-null     float64\n",
      "dtypes: float64(1), object(5)\n",
      "memory usage: 1.4+ KB\n"
     ]
    }
   ],
   "source": [
    "for tabela in dados_planilhas: # type: ignore\n",
    "    tabela.info()\n"
   ]
  },
  {
   "cell_type": "markdown",
   "metadata": {},
   "source": [
    "Limpeza"
   ]
  },
  {
   "cell_type": "markdown",
   "metadata": {},
   "source": [
    "Neste trecho de código, é realizado um processo de leitura e manipulação de dados de várias planilhas de um arquivo Excel (tabela.xlsx), seguido pela coleta desses dados em uma lista (dados_planilhas). Aqui está uma descrição detalhada das etapas:\n",
    "\n",
    "\n",
    "- Extração do Valor: O valor da primeira célula da primeira linha (tabela.iloc[0].keys()[0]) é armazenado na variável valor. Este \n",
    "valor parece ser usado posteriormente para renomear uma coluna.\n",
    "\n",
    "- Definição dos Nomes das Colunas: Os nomes das colunas do DataFrame tabela são definidos para serem os valores da primeira linha de dados (tabela.iloc[0]), efetivamente transformando essa linha em cabeçalho.\n",
    "\n",
    "- Remoção da Primeira e Última Linha: O DataFrame é então ajustado para excluir a primeira linha (que agora é redundante, pois foi usada como cabeçalho) e a última linha, usando tabela.iloc[1:-1].\n",
    "\n",
    "- Renomeação de Coluna: Uma das colunas (especificamente a coluna no índice 5) é renomeada para o valor armazenado anteriormente em valor. Isso é feito através do método rename(columns={}).\n",
    "\n",
    "- Adição ao Resultado: O DataFrame modificado é adicionado à lista dados_planilhas, que coleta os dados de todas as planilhas processadas.\n",
    "\n",
    "- Este processo é repetido para cada planilha listada em nome_planilhas, resultando em uma coleção de DataFrames modificados na lista dados_planilhas."
   ]
  },
  {
   "cell_type": "markdown",
   "metadata": {},
   "source": [
    "Analises/Narrativas"
   ]
  },
  {
   "cell_type": "markdown",
   "metadata": {},
   "source": [
    "- Pessoal Ocupado Assalariado - Pessoal Ocupado Total (Por estado)\n",
    "- Pessoal Ocupado Assalriado Sexo Feminino - Pessoal Ocupado Assalriado Sexo Feminino (Por 5 maiores estados do Pais)\n",
    "- Salário médio mensal dos empregados com nível superior - Salário médio mensal dos empregados sem nível superior (Por estado)"
   ]
  }
 ],
 "metadata": {
  "kernelspec": {
   "display_name": "Python 3",
   "language": "python",
   "name": "python3"
  },
  "language_info": {
   "codemirror_mode": {
    "name": "ipython",
    "version": 3
   },
   "file_extension": ".py",
   "mimetype": "text/x-python",
   "name": "python",
   "nbconvert_exporter": "python",
   "pygments_lexer": "ipython3",
   "version": "3.12.4"
  }
 },
 "nbformat": 4,
 "nbformat_minor": 2
}
